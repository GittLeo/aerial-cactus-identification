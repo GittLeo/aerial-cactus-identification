{
 "cells": [
  {
   "cell_type": "code",
   "execution_count": 1,
   "metadata": {},
   "outputs": [],
   "source": [
    "import tensorflow as tf\n",
    "import numpy as np\n",
    "import tf_utils"
   ]
  },
  {
   "cell_type": "code",
   "execution_count": 2,
   "metadata": {},
   "outputs": [],
   "source": [
    "import matplotlib.pyplot as plt\n",
    "import matplotlib.image as mpimg\n",
    "%matplotlib inline\n",
    "np.random.seed(1)"
   ]
  },
  {
   "cell_type": "code",
   "execution_count": 3,
   "metadata": {},
   "outputs": [],
   "source": [
    "X_train,y_train,X_test,y_test,classes = tf_utils.load_dataset()"
   ]
  },
  {
   "cell_type": "code",
   "execution_count": 4,
   "metadata": {},
   "outputs": [],
   "source": [
    "def convert_to_one_hot(Y, C):\n",
    "    Y = np.eye(C)[Y.reshape(-1)].T\n",
    "    return Y"
   ]
  },
  {
   "cell_type": "code",
   "execution_count": 5,
   "metadata": {},
   "outputs": [],
   "source": [
    "m, height, width, channels = X_train.shape"
   ]
  },
  {
   "cell_type": "code",
   "execution_count": 6,
   "metadata": {},
   "outputs": [],
   "source": [
    "def weight_variable(shape):\n",
    "    initial = tf.truncated_normal(shape, stddev=0.1)\n",
    "    return tf.Variable(initial)"
   ]
  },
  {
   "cell_type": "code",
   "execution_count": 7,
   "metadata": {},
   "outputs": [],
   "source": [
    "def bias_variable(shape):\n",
    "    initial = tf.constant(0.1, shape=shape)\n",
    "    return tf.Variable(initial)"
   ]
  },
  {
   "cell_type": "code",
   "execution_count": 8,
   "metadata": {},
   "outputs": [],
   "source": [
    "def conv2d(x, W):\n",
    "    return tf.nn.conv2d(x, W, strides=[1,1,1,1], padding='SAME')"
   ]
  },
  {
   "cell_type": "code",
   "execution_count": 9,
   "metadata": {},
   "outputs": [],
   "source": [
    "def max_pool_2d(x,ksize, strides):\n",
    "    return tf.nn.max_pool(x, ksize=ksize, strides=strides, padding='SAME')"
   ]
  },
  {
   "cell_type": "code",
   "execution_count": 10,
   "metadata": {},
   "outputs": [],
   "source": [
    "x = tf.placeholder(tf.float32, [None, 64, 64, 3], name='x')"
   ]
  },
  {
   "cell_type": "code",
   "execution_count": 11,
   "metadata": {},
   "outputs": [],
   "source": [
    "y = tf.placeholder(tf.float32, [None, 6], name='x')"
   ]
  },
  {
   "cell_type": "code",
   "execution_count": 12,
   "metadata": {},
   "outputs": [],
   "source": [
    "y_train = convert_to_one_hot(y_train, 6)\n",
    "y_test = convert_to_one_hot(y_test, 6)\n",
    "X_train = X_train / 255\n",
    "X_test = X_test / 255"
   ]
  },
  {
   "cell_type": "code",
   "execution_count": 13,
   "metadata": {},
   "outputs": [],
   "source": [
    "W1 = weight_variable([5, 5, 3, 8])\n",
    "b1 = bias_variable([8])"
   ]
  },
  {
   "cell_type": "code",
   "execution_count": 14,
   "metadata": {},
   "outputs": [],
   "source": [
    "h_conv1 = tf.nn.relu(conv2d(x, W1) + b1)\n",
    "h_pool1 = max_pool_2d(h_conv1,[1,2,2,1],[1,2,2,1])"
   ]
  },
  {
   "cell_type": "code",
   "execution_count": 15,
   "metadata": {},
   "outputs": [],
   "source": [
    "W2 = weight_variable([5,5,8,16])\n",
    "b2 = bias_variable([16])"
   ]
  },
  {
   "cell_type": "code",
   "execution_count": 16,
   "metadata": {},
   "outputs": [],
   "source": [
    "h_conv2 = tf.nn.relu(conv2d(h_pool1, W2) + b2)\n",
    "h_pool2 = max_pool_2d(h_conv2,[1,2,2,1],[1,2,2,1])"
   ]
  },
  {
   "cell_type": "code",
   "execution_count": 17,
   "metadata": {},
   "outputs": [],
   "source": [
    "W_fc1 = weight_variable([16*16*16, 1024])\n",
    "b_fc1 = bias_variable([1024])"
   ]
  },
  {
   "cell_type": "code",
   "execution_count": 18,
   "metadata": {},
   "outputs": [],
   "source": [
    "h_flat = tf.reshape(h_pool2, [-1, 16*16*16])\n",
    "h_fc1 = tf.nn.relu(tf.matmul(h_flat, W_fc1)+ b_fc1)"
   ]
  },
  {
   "cell_type": "code",
   "execution_count": 19,
   "metadata": {},
   "outputs": [],
   "source": [
    "keep_prob = tf.placeholder(tf.float32)"
   ]
  },
  {
   "cell_type": "code",
   "execution_count": 20,
   "metadata": {},
   "outputs": [],
   "source": [
    "h_fc1_drop = tf.nn.dropout(h_fc1, keep_prob)"
   ]
  },
  {
   "cell_type": "code",
   "execution_count": 24,
   "metadata": {},
   "outputs": [],
   "source": [
    "W_fc2 = weight_variable([1024, 72])\n",
    "b_fc2 = bias_variable([72])"
   ]
  },
  {
   "cell_type": "code",
   "execution_count": 25,
   "metadata": {},
   "outputs": [],
   "source": [
    "h_fc2 = tf.nn.relu(tf.matmul(h_fc1_drop, W_fc2)+b_fc2)\n",
    "h_fc2_drop = tf.nn.dropout(h_fc2, keep_prob)"
   ]
  },
  {
   "cell_type": "code",
   "execution_count": 26,
   "metadata": {},
   "outputs": [],
   "source": [
    "W_fc3 = weight_variable([72, 6])\n",
    "b_fc3 = bias_variable([6])"
   ]
  },
  {
   "cell_type": "code",
   "execution_count": 27,
   "metadata": {},
   "outputs": [],
   "source": [
    "y_conv = tf.nn.softmax(tf.matmul(h_fc2_drop, W_fc3)+b_fc3, name='output')"
   ]
  },
  {
   "cell_type": "code",
   "execution_count": 41,
   "metadata": {},
   "outputs": [
    {
     "name": "stdout",
     "output_type": "stream",
     "text": [
      "WARNING:tensorflow:From <ipython-input-41-e18eb597761d>:1: softmax_cross_entropy_with_logits (from tensorflow.python.ops.nn_ops) is deprecated and will be removed in a future version.\n",
      "Instructions for updating:\n",
      "\n",
      "Future major versions of TensorFlow will allow gradients to flow\n",
      "into the labels input on backprop by default.\n",
      "\n",
      "See `tf.nn.softmax_cross_entropy_with_logits_v2`.\n",
      "\n"
     ]
    }
   ],
   "source": [
    "cross_entropy = tf.nn.softmax_cross_entropy_with_logits(logits=y_conv, labels=y)\n",
    "cost = tf.reduce_mean(cross_entropy)\n",
    "optimizer = tf.train.AdamOptimizer(1e-4).minimize(cost)\n",
    "correct_prediction = tf.equal(tf.argmax(y_conv, 1), tf.argmax(y, 1))\n",
    "accuracy = tf.reduce_mean(tf.cast(correct_prediction, tf.float32))"
   ]
  },
  {
   "cell_type": "code",
   "execution_count": 42,
   "metadata": {},
   "outputs": [],
   "source": [
    "def next_batch(train_data, train_target, batch_size):  \n",
    "    index = [ i for i in range(0,len(train_target)) ]  \n",
    "    np.random.shuffle(index);  \n",
    "    batch_data = []; \n",
    "    batch_target = [];  \n",
    "    for i in range(0,batch_size):  \n",
    "        batch_data.append(train_data[index[i]]);  \n",
    "        batch_target.append(train_target[index[i]])  \n",
    "    return batch_data, batch_target  "
   ]
  },
  {
   "cell_type": "code",
   "execution_count": null,
   "metadata": {},
   "outputs": [
    {
     "name": "stdout",
     "output_type": "stream",
     "text": [
      "迭代101 正确率为0.406250\n",
      "测试集准确率:0.333333  损失率1.750180\n",
      "迭代201 正确率为0.515625\n",
      "测试集准确率:0.550000  损失率1.625495\n",
      "迭代301 正确率为0.718750\n",
      "测试集准确率:0.725000  损失率1.500522\n",
      "迭代401 正确率为0.875000\n",
      "测试集准确率:0.791667  损失率1.352206\n"
     ]
    }
   ],
   "source": [
    "with tf.Session() as sess:\n",
    "    sess.run(tf.global_variables_initializer())\n",
    "    for i in range(2000):\n",
    "        batch_x, batch_y = next_batch(X_train, y_train.T, 64)\n",
    "        _,c = sess.run([optimizer, cost], feed_dict={x:batch_x, y:batch_y, keep_prob:0.5})\n",
    "        if (i%100 == 0 or i==1999) and i!=0:\n",
    "            acc = sess.run(accuracy,feed_dict={x:batch_x, y:batch_y, keep_prob:1.0})\n",
    "            print('迭代%d 正确率为%f' %(i+1, acc))\n",
    "            acc = sess.run(accuracy,feed_dict={x:X_test, y:y_test.T, keep_prob:1.0})\n",
    "            print('测试集准确率:%f  损失率%f'%(acc, c))\n",
    "    constant_graph = tf.graph_util.convert_variables_to_constants(sess, sess.graph_def, ['output'])\n",
    "    with tf.gfile.FastGFile('./model/model.pb', mode='wb') as f:\n",
    "        f.write(constant_graph.SerializeToString())"
   ]
  },
  {
   "cell_type": "code",
   "execution_count": 50,
   "metadata": {},
   "outputs": [],
   "source": [
    "  with tf.Graph().as_default():\n",
    "        x2 = tf.placeholder(tf.float32, [None, 64, 64, 3], name='input')\n",
    "        y2 = tf.placeholder(tf.float32, [None, 6])\n",
    "        W1_2 = tf.constant(_W1, name='const_W1')\n",
    "        b1_2 = tf.constant(_b1, name='const_b1')\n",
    "        h_conv1_2 = tf.nn.relu(conv2d(x2, W1_2) + b1_2)\n",
    "        h_pool1_2 = max_pool_2d(h_conv1_2,[1,2,2,1],[1,2,2,1])\n",
    "        \n",
    "        W2_2 = tf.constant(_W2, name='const_W2')\n",
    "        b2_2 = tf.constant(_b2, name='const_b2')\n",
    "        h_conv2_2 = tf.nn.relu(conv2d(h_pool1_2, W2_2) + b2_2)\n",
    "        h_pool2_2 = max_pool_2d(h_conv2_2,[1,2,2,1],[1,2,2,1])\n",
    "        \n",
    "        W_fc1_2 = tf.constant(_W_fc1, name='const_W_fc1')\n",
    "        b_fc1_2 = tf.constant(_b_fc1, name='const_b_fc1')\n",
    "        h_flat_2 = tf.reshape(h_pool2_2, [-1,16*16*16])\n",
    "        h_fc1_2 = tf.nn.relu(tf.matmul(h_flat_2, W_fc1_2)+b_fc1_2)\n",
    "        \n",
    "        keep_prob_2 = tf.placeholder(tf.float32)\n",
    "        h_drop1_2 = tf.nn.dropout(h_fc1_2, keep_prob_2)\n",
    "        \n",
    "        W_fc2_2 = tf.constant(_W_fc2, name='const_W_fc2')\n",
    "        b_fc2_2 = tf.constant(_b_fc2, name='const_b_fc2')\n",
    "        h_fc2_2 = tf.nn.relu(tf.matmul(h_drop1_2, W_fc2_2)+b_fc2_2)\n",
    "        h_drop2_2 = tf.nn.dropout(h_fc2_2, keep_prob_2)\n",
    "        \n",
    "        W_fc3_2 = tf.constant(_W_fc3, name='const_W_fc3')\n",
    "        b_fc3_2 = tf.constant(_b_fc3, name='const_b_fc3')\n",
    "        y_conv_2 = tf.nn.softmax(tf.matmul(h_drop2_2, W_fc3_2)+b_fc3_2, name='output')\n",
    "        with tf.Session() as sess_2:\n",
    "            sess_2.run(tf.global_variables_initializer())\n",
    "            tf.train.write_graph(sess_2.graph_def, './model/', 'model.pb', as_text=False)\n",
    "            #correct_prediction_2 = tf.equal(tf.argmax(y_conv_2, 1), tf.argmax(y_2, 1))\n",
    "            #accuracy_2 = tf.reduce_mean(tf.cast(correct_prediction_2, tf.float32))"
   ]
  },
  {
   "cell_type": "code",
   "execution_count": null,
   "metadata": {},
   "outputs": [],
   "source": []
  }
 ],
 "metadata": {
  "kernelspec": {
   "display_name": "Python 3",
   "language": "python",
   "name": "python3"
  },
  "language_info": {
   "codemirror_mode": {
    "name": "ipython",
    "version": 3
   },
   "file_extension": ".py",
   "mimetype": "text/x-python",
   "name": "python",
   "nbconvert_exporter": "python",
   "pygments_lexer": "ipython3",
   "version": "3.6.9"
  }
 },
 "nbformat": 4,
 "nbformat_minor": 2
}
