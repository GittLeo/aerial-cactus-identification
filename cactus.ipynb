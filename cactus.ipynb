{
 "cells": [
  {
   "cell_type": "code",
   "execution_count": 1,
   "metadata": {},
   "outputs": [],
   "source": [
    "import tensorflow as tf\n",
    "import pandas as pd\n",
    "import os\n",
    "import numpy as np\n",
    "from PIL import Image\n",
    "from tensorflow.python.framework import ops\n",
    "import matplotlib.pyplot as plt\n",
    "from sklearn.model_selection import train_test_split\n",
    "import math"
   ]
  },
  {
   "cell_type": "code",
   "execution_count": 2,
   "metadata": {},
   "outputs": [],
   "source": [
    "#将类别标签变为独热编码\n",
    "def onehot_code(lables,C):\n",
    "    C = tf.constant(C,name=\"C\")                                          #创建一个tf.constant，赋值为C，名字叫C\n",
    "    one_hot_matrix = tf.one_hot(indices=lables , depth=C , axis=0)  #使用tf.one_hot，将分类类别变为独热编码\n",
    "    sess = tf.Session()\n",
    "    one_hot = sess.run(one_hot_matrix)       #运行session\n",
    "    sess.close()                             #关闭session\n",
    "    return one_hot"
   ]
  },
  {
   "cell_type": "code",
   "execution_count": 3,
   "metadata": {},
   "outputs": [],
   "source": [
    "def weight_initialize():\n",
    "    #初始化权重参数\n",
    "    tf.set_random_seed(1)\n",
    "    \n",
    "    W1 = tf.get_variable(\"W1\",[4,4,3,8],initializer=tf.contrib.layers.xavier_initializer(seed=0))\n",
    "    W2 = tf.get_variable(\"W2\",[2,2,8,16],initializer=tf.contrib.layers.xavier_initializer(seed=0))\n",
    "    \n",
    "    weights = {'W1':W1,'W2':W2}\n",
    "    return weights"
   ]
  },
  {
   "cell_type": "code",
   "execution_count": 4,
   "metadata": {},
   "outputs": [],
   "source": [
    "#创建用于tf输入变量的占位符\n",
    "#输入参数分别为图片高度，宽度，通道数和类别数（这里就是0没有仙人掌，1有仙人掌）\n",
    "def XY_placeholder(n_h0,n_w0,n_c0,n_y):\n",
    "    X = tf.placeholder(tf.float32, [None,n_h0,n_w0,n_c0])\n",
    "    Y = tf.placeholder(tf.float32, [None,n_y])\n",
    "    return X, Y"
   ]
  },
  {
   "cell_type": "code",
   "execution_count": 5,
   "metadata": {},
   "outputs": [],
   "source": [
    "#实现卷积网络的前向传播\n",
    "def conv_forward(X0,parameters0):\n",
    "    W1=parameters0['W1']\n",
    "    W2=parameters0['W2']\n",
    "    #第一层\n",
    "    Z1=tf.nn.conv2d(X0,W1,strides=[1,1,1,1],padding='SAME')                #卷积函数 输出:(图片数，高度，宽度，每个通道包含卷积核数量)\n",
    "    A1=tf.nn.relu(Z1)\n",
    "    P1=tf.nn.max_pool(A1,ksize=[1,4,4,1],strides=[1,4,4,1],padding='SAME') #池化函数 输出:(图片数，高度，宽度，通道数)\n",
    "    #第二层\n",
    "    Z2=tf.nn.conv2d(P1,W2,strides=[1,2,2,1],padding='SAME')\n",
    "    A2=tf.nn.relu(Z2)\n",
    "    P2=tf.nn.max_pool(A2,ksize=[1,2,2,1],strides=[1,2,2,1],padding='SAME')\n",
    "    #展平和输出全连接层\n",
    "    P=tf.contrib.layers.flatten(P2)\n",
    "    Z3=tf.contrib.layers.fully_connected(P,2,activation_fn=None)           #全联接层输出：(图片数，分类数)\n",
    "    \n",
    "    return Z3"
   ]
  },
  {
   "cell_type": "code",
   "execution_count": 6,
   "metadata": {},
   "outputs": [],
   "source": [
    "def cost_computation(Z3,Y):\n",
    "    #这里选择交叉熵来计算用来优化的损失函数\n",
    "    cost=tf.reduce_mean(tf.nn.softmax_cross_entropy_with_logits(logits=Z3,labels=Y))\n",
    "    #交叉熵函数先对logits中每一行进行softmax，得y'，再按每一行和实际标签y做交叉熵y*log(y')的和\n",
    "    return cost"
   ]
  },
  {
   "cell_type": "code",
   "execution_count": 7,
   "metadata": {},
   "outputs": [],
   "source": [
    "def split_deal(X, Y, part_size = 500, seed = 0):\n",
    "    m = X.shape[0]                  # 训练集的样本数量\n",
    "    parts = []\n",
    "    np.random.seed(seed)\n",
    "    # 第一步打乱数据和标签\n",
    "    permutation = list(np.random.permutation(m))\n",
    "    shuffled_X = X[permutation,:,:,:]\n",
    "    shuffled_Y = Y[permutation,:]\n",
    "    # 第二步：分离\n",
    "    num_complete_parts = math.floor(m/part_size) \n",
    "    for k in range(0, num_complete_parts):\n",
    "        part_X = shuffled_X[k * part_size : k * part_size + part_size,:,:,:]\n",
    "        part_Y = shuffled_Y[k * part_size : k * part_size + part_size,:]\n",
    "        part = (part_X, part_Y)\n",
    "        parts.append(part)\n",
    "    if m % part_size != 0:\n",
    "        part_X = shuffled_X[num_complete_parts *part_size : m,:,:,:]\n",
    "        part_Y = shuffled_Y[num_complete_parts * part_size : m,:]\n",
    "        part = (part_X, part_Y)\n",
    "        parts.append(part)\n",
    "    return parts"
   ]
  },
  {
   "cell_type": "code",
   "execution_count": 8,
   "metadata": {},
   "outputs": [],
   "source": [
    "#预测函数的实现\n",
    "def predict(X,parameters):\n",
    "    W1=parameters['W1']\n",
    "    W2=parameters['W2']\n",
    "    \n",
    "    Z1=tf.nn.conv2d(X,W1,strides=[1,1,1,1],padding='SAME')\n",
    "    A1=tf.nn.relu(Z1)\n",
    "    P1=tf.nn.max_pool(A1,ksize=[1,4,4,1],strides=[1,4,4,1],padding='SAME')\n",
    "    Z2=tf.nn.conv2d(P1,W2,strides=[1,1,1,1],padding='SAME')\n",
    "    A2=tf.nn.relu(Z2)\n",
    "    P2=tf.nn.max_pool(A2,ksize=[1,2,2,1],strides=[1,2,2,1],padding='SAME')\n",
    "    Z3=tf.contrib.layers.flatten(P2)\n",
    "    Z3=tf.contrib.layers.fully_connected(Z3,2,activation_fn=None)\n",
    "    Z4=tf.argmax(Z3,axis=1)\n",
    "        \n",
    "    return Z4"
   ]
  },
  {
   "cell_type": "code",
   "execution_count": 9,
   "metadata": {},
   "outputs": [],
   "source": [
    "def model(X_train,Y_train,X_test,Y_test,learning_rate=0.010,epochs=100,minibatch_size=500,print_cost=True,isplot=True):\n",
    "    ops.reset_default_graph()    #能够重新运行模型而不覆盖\n",
    "    tf.set_random_seed(1)\n",
    "    seed=3\n",
    "    m,h,w,c=X_train.shape\n",
    "    n_y=Y_train.shape[1]\n",
    "    costs=[]\n",
    "    \n",
    "    X,Y=XY_placeholder(h,w,c,n_y)\n",
    "    parameters=weight_initialize()\n",
    "    Z=conv_forward(X,parameters)\n",
    "    J=cost_computation(Z,Y)\n",
    "    \n",
    "    optimizer=tf.train.AdamOptimizer(learning_rate=learning_rate).minimize(J)\n",
    "    \n",
    "    init=tf.global_variables_initializer()\n",
    "    with tf.Session() as sess:\n",
    "        sess.run(init)\n",
    "        for epoch in range(epochs):\n",
    "            minibatch_J=0\n",
    "            num_minibatches=int(m/minibatch_size)       #获取数据块的数量\n",
    "            seed=seed+1\n",
    "            minibatches=split_deal(X_train,Y_train,minibatch_size,seed)\n",
    "            \n",
    "            #对每个数据块进行处理\n",
    "            for minibatch in minibatches:\n",
    "                minibatch_X,minibatch_Y=minibatch      #选择一个数据块\n",
    "                _,temp_J=sess.run([optimizer,J],feed_dict={X:minibatch_X,Y:minibatch_Y})   #最小化这个数据块的成本\n",
    "                \n",
    "                minibatch_J+=temp_J/num_minibatches    #累加数块的成本值\n",
    "                \n",
    "            if print_cost:\n",
    "                if epoch % 5==0:\n",
    "                    print('当前是第'+str(epoch)+'代，成本是'+str(minibatch_J))\n",
    "                \n",
    "            if epoch % 1==0:\n",
    "                costs.append(minibatch_J)\n",
    "                \n",
    "        if isplot:\n",
    "            plt.plot(np.squeeze(costs))\n",
    "            plt.ylabel('cost')\n",
    "            plt.xlabel('iterations')\n",
    "            plt.title('Learning rate='+str(learning_rate))\n",
    "            plt.show()\n",
    "                \n",
    "            #开始预测数据\n",
    "            ##计算当前的预测情况\n",
    "            predict_op=tf.arg_max(Z,1)\n",
    "            current_prediction=tf.equal(predict_op,tf.arg_max(Y,1))\n",
    "                \n",
    "            ##计算准确度\n",
    "            accuracy=tf.reduce_mean(tf.cast(current_prediction,'float'))\n",
    "            print('current prediction accuracy='+str(accuracy))\n",
    "                \n",
    "            train_accuracy=accuracy.eval({X:X_train,Y:Y_train})\n",
    "            test_accuracy=accuracy.eval({X:X_test,Y:Y_test})\n",
    "                \n",
    "            print('训练集准确度'+str(train_accuracy))                  #train_accuracy - 实数，训练集的准确度\n",
    "            print('测试集准确度'+str(test_accuracy))                   #test_accuracy - 实数，测试集的准确度\n",
    "                                                                    \n",
    "            tf.train.Saver().save(sess, \"D:/kaggle/aerial-cactus-identification/model.ckpt\")      #保存已经训练好的模型\n",
    "            \n",
    "    return train_accuracy,test_accuracy,parameters                #parameters - 学习后的参数"
   ]
  },
  {
   "cell_type": "code",
   "execution_count": 3,
   "metadata": {},
   "outputs": [],
   "source": [
    "#上面为函数，下面开始为主程序\n",
    "train_data=pd.read_csv('train.csv')\n",
    "submission_data=pd.read_csv('sample_submission.csv')"
   ]
  },
  {
   "cell_type": "code",
   "execution_count": null,
   "metadata": {},
   "outputs": [],
   "source": [
    "#读取训练集图片并转化为数组\n",
    "'''\n",
    "for file in os.walk('train'):\n",
    "    train_names=file[2]\n",
    "    \n",
    "X_trainall=[]\n",
    "for pnum in range(len(train_names)):\n",
    "    im=Image.open('train/'+train_names[pnum])\n",
    "    im_array=np.array(im)\n",
    "    X_trainall=list(X_trainall)\n",
    "    X_trainall.append(im_array)\n",
    "    X_trainall=np.array(X_trainall)\n",
    "    s=X_trainall.shape\n",
    "    print(s)\n",
    "'''"
   ]
  },
  {
   "cell_type": "code",
   "execution_count": null,
   "metadata": {},
   "outputs": [],
   "source": [
    "#读取测试集图片并转化为数组\n",
    "'''\n",
    "for file2 in os.walk('test'):\n",
    "    test_names=file2[2]\n",
    "X_test=[]\n",
    "for pnum2 in range(len(test_names)):\n",
    "    im2=Image.open('test/'+test_names[pnum2])\n",
    "    im_array2=np.array(im2)\n",
    "    X_test=list(X_test)\n",
    "    X_test.append(im_array2)\n",
    "    X_test=np.array(X_test)\n",
    "    s2=X_test.shape\n",
    "    print(s2)\n",
    "'''"
   ]
  },
  {
   "cell_type": "code",
   "execution_count": 7,
   "metadata": {},
   "outputs": [
    {
     "name": "stdout",
     "output_type": "stream",
     "text": [
      "(17500, 32, 32, 3)\n"
     ]
    }
   ],
   "source": [
    "#type(train_data)\n",
    "#np.save(file='train_picture',arr=X_trainall)\n",
    "#np.save(file='test_picture',arr=X_test)\n",
    "'''\n",
    "all_train=np.load(file='train_picture.npy')\n",
    "a1=all_train[0:8750,:,:,:]\n",
    "a2=all_train[8750:,:,:,:]\n",
    "np.save(file='train_picture1',arr=a1)\n",
    "np.save(file='train_picture2',arr=a2)\n",
    "'''\n",
    "X_realtest=np.load(file='test_picture.npy')\n",
    "all_train1=list(np.load(file='train_picture1.npy'))\n",
    "all_train2=list(np.load(file='train_picture2.npy'))\n",
    "all_train1.extend(all_train2)\n",
    "all_train=np.array(all_train1)\n",
    "print(all_train.shape)\n",
    "#temp=all_train\n",
    "#train,test = train_test_split(temp,test_size=0.3)\n",
    "all_train_labels=train_data.iloc[:,1].values"
   ]
  },
  {
   "cell_type": "code",
   "execution_count": 28,
   "metadata": {},
   "outputs": [
    {
     "name": "stdout",
     "output_type": "stream",
     "text": [
      "当前是第0代，成本是7.511755235493182\n",
      "当前是第5代，成本是0.5355621712903182\n",
      "当前是第10代，成本是0.25186799031992757\n",
      "当前是第15代，成本是0.2027734766403834\n",
      "当前是第20代，成本是0.1657118980462353\n",
      "当前是第25代，成本是0.13883120846003297\n",
      "当前是第30代，成本是0.13672482160230476\n",
      "当前是第35代，成本是0.1520391485343377\n",
      "当前是第40代，成本是0.1293378509581089\n",
      "当前是第45代，成本是0.12692845178147155\n",
      "当前是第50代，成本是0.1252489487330119\n",
      "当前是第55代，成本是0.11848817424227794\n",
      "当前是第60代，成本是0.12555094466855127\n",
      "当前是第65代，成本是0.12258639900634685\n",
      "当前是第70代，成本是0.12792984955012798\n",
      "当前是第75代，成本是0.11123527803768715\n",
      "当前是第80代，成本是0.11824986866364874\n",
      "当前是第85代，成本是0.0985774804527561\n",
      "当前是第90代，成本是0.10088607544700305\n",
      "当前是第95代，成本是0.09606055015077195\n"
     ]
    },
    {
     "data": {
      "image/png": "[encoded data removed]",
      "text/plain": [
       "<Figure size 432x288 with 1 Axes>"
      ]
     },
     "metadata": {
      "needs_background": "light"
     },
     "output_type": "display_data"
    },
    {
     "name": "stdout",
     "output_type": "stream",
     "text": [
      "current prediction accuracy=Tensor(\"Mean_1:0\", shape=(), dtype=float32)\n",
      "训练集准确度0.94865304\n",
      "测试集准确度0.9487619\n"
     ]
    }
   ],
   "source": [
    "#从训练数据中分割处用于训练模型和初步测试模型的数据集\n",
    "np.random.seed(1)\n",
    "np.random.shuffle(all_train)\n",
    "np.random.seed(1)\n",
    "np.random.shuffle(all_train_labels)\n",
    "s=int(17500*0.7)\n",
    "s1=int(17500*0.3)\n",
    "X_train=all_train[:s,:,:,:]        #0.7的训练数据集\n",
    "X_test=all_train[s:,:,:,:]         #0.3的测试数据集\n",
    "Y1=all_train_labels[:s]            #0.7的训练数据集标签\n",
    "Y_train=onehot_code(Y1,C=2)         #进行独热编码\n",
    "Y_train=Y_train.T\n",
    "Y2=all_train_labels[s:]            #0.3的测试数据集标签\n",
    "Y_test=onehot_code(Y2,C=2)         #独热编码\n",
    "Y_test=Y_test.T\n",
    "train_ac,test_ac,parameters = model(X_train, Y_train, X_test, Y_test,learning_rate=0.010,epochs=100)"
   ]
  },
  {
   "cell_type": "code",
   "execution_count": 27,
   "metadata": {},
   "outputs": [
    {
     "name": "stdout",
     "output_type": "stream",
     "text": [
      "INFO:tensorflow:Restoring parameters from D:/kaggle/aerial-cactus-identification/model.ckpt\n",
      "[0 0 0 ... 0 0 0]\n"
     ]
    }
   ],
   "source": [
    "saver = tf.train.import_meta_graph('D:/kaggle/aerial-cactus-identification/model.ckpt.meta')\n",
    "with tf.Session() as sess_test:\n",
    "    saver.restore(sess_test, tf.train.latest_checkpoint(''))\n",
    "    graph = tf.get_default_graph()\n",
    "    w1 = graph.get_tensor_by_name(\"W1:0\")\n",
    "    w2 = graph.get_tensor_by_name(\"W2:0\")\n",
    "    parameters={'W1':w1,'W2':w2}\n",
    "    xp=tf.placeholder(tf.float32,[None,32,32,3])\n",
    "    temp=predict(xp,parameters)\n",
    "    sess_test.run(tf.global_variables_initializer())\n",
    "    p=sess_test.run(temp,feed_dict={xp:X_realtest})\n",
    "    prediction=p\n",
    "    print(prediction)"
   ]
  },
  {
   "cell_type": "code",
   "execution_count": 14,
   "metadata": {},
   "outputs": [
    {
     "data": {
      "text/plain": [
       "numpy.ndarray"
      ]
     },
     "execution_count": 14,
     "metadata": {},
     "output_type": "execute_result"
    }
   ],
   "source": [
    "type(X_realtest)"
   ]
  },
  {
   "cell_type": "code",
   "execution_count": 15,
   "metadata": {},
   "outputs": [],
   "source": [
    "results=pd.DataFrame(prediction)\n",
    "results.to_csv('results.csv')\n",
    "df=pd.read_csv('results.csv', header=0)\n",
    "df.columns=['ImageId','Label']\n",
    "df.to_csv('results.csv', index=False)"
   ]
  },
  {
   "cell_type": "code",
   "execution_count": null,
   "metadata": {},
   "outputs": [],
   "source": []
  },
  {
   "cell_type": "code",
   "execution_count": null,
   "metadata": {},
   "outputs": [],
   "source": []
  },
  {
   "cell_type": "code",
   "execution_count": null,
   "metadata": {},
   "outputs": [],
   "source": []
  },
  {
   "cell_type": "code",
   "execution_count": null,
   "metadata": {},
   "outputs": [],
   "source": []
  }
 ],
 "metadata": {
  "kernelspec": {
   "display_name": "Python 3",
   "language": "python",
   "name": "python3"
  },
  "language_info": {
   "codemirror_mode": {
    "name": "ipython",
    "version": 3
   },
   "file_extension": ".py",
   "mimetype": "text/x-python",
   "name": "python",
   "nbconvert_exporter": "python",
   "pygments_lexer": "ipython3",
   "version": "3.7.5"
  }
 },
 "nbformat": 4,
 "nbformat_minor": 2
}
